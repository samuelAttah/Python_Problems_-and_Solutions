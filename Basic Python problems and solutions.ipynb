{
 "cells": [
  {
   "cell_type": "code",
   "execution_count": null,
   "id": "86bec13e",
   "metadata": {},
   "outputs": [],
   "source": [
    "age =\"6\"\n",
    "result = int(age)* 6\n",
    "print(result)"
   ]
  },
  {
   "cell_type": "code",
   "execution_count": null,
   "id": "d1ab44e2",
   "metadata": {},
   "outputs": [],
   "source": [
    "name = \"samuel\"\n",
    "age= 27\n",
    "print(f\"{name} is {age} years old\")\n",
    "    "
   ]
  },
  {
   "cell_type": "code",
   "execution_count": null,
   "id": "034d371f",
   "metadata": {},
   "outputs": [],
   "source": [
    "name = \"samuel\"\n",
    "age= 27\n",
    "print(f\"{name} is {str(age)} years old\")"
   ]
  },
  {
   "cell_type": "code",
   "execution_count": null,
   "id": "6546bfba",
   "metadata": {},
   "outputs": [],
   "source": [
    "Num1 = int(input(\"Enter First Number:\"))\n",
    "Num2 = int(input(\"Enter Second Number:\"))\n",
    "print(Num1 * Num2)"
   ]
  },
  {
   "cell_type": "code",
   "execution_count": null,
   "id": "6e329204",
   "metadata": {},
   "outputs": [],
   "source": [
    "weight = 0.2\n",
    "animal = \"newt\"\n",
    "print(\"{}kg is the weight of the {}\".format(weight,animal))"
   ]
  },
  {
   "cell_type": "code",
   "execution_count": null,
   "id": "3b939b9b",
   "metadata": {},
   "outputs": [],
   "source": [
    "weight = 0.2\n",
    "animal = \"newt\"\n",
    "print(\"{weight}kg is the weight of the {animal}\".format(weight=weight,animal=animal))"
   ]
  },
  {
   "cell_type": "code",
   "execution_count": null,
   "id": "3b3c5381",
   "metadata": {},
   "outputs": [],
   "source": [
    "word=input(\"Enter a random word Here:\")\n",
    "word=word.replace(\"a\", \"4\")\n",
    "word=word.replace(\"b\", \"8\")\n",
    "word=word.replace(\"e\", \"3\")\n",
    "word=word.replace(\"l\", \"1\")\n",
    "word=word.replace(\"o\", \"0\")\n",
    "word=word.replace(\"s\", \"5\")\n",
    "word=word.replace(\"t\", \"7\")\n",
    "print(word)"
   ]
  },
  {
   "cell_type": "code",
   "execution_count": null,
   "id": "0102ff49",
   "metadata": {},
   "outputs": [],
   "source": [
    "num = 1.75e+5\n",
    "print(num)"
   ]
  },
  {
   "cell_type": "code",
   "execution_count": null,
   "id": "43cadd7f",
   "metadata": {},
   "outputs": [],
   "source": [
    "num1 = -8\n",
    "num2 = 3\n",
    "print(num1%num2)"
   ]
  },
  {
   "cell_type": "code",
   "execution_count": null,
   "id": "095b838a",
   "metadata": {},
   "outputs": [],
   "source": [
    "base = int(input(\"Enter a base Number: \"))\n",
    "exponent = int(input(\"Enter a exponent Number: \"))\n",
    "print(f\"{base} to the power {exponent} is {base**exponent}\")"
   ]
  },
  {
   "cell_type": "code",
   "execution_count": null,
   "id": "54eddbf1",
   "metadata": {},
   "outputs": [],
   "source": [
    "0.1 + 0.2"
   ]
  },
  {
   "cell_type": "code",
   "execution_count": null,
   "id": "bde9422a",
   "metadata": {},
   "outputs": [],
   "source": [
    "number1 = float(input(\"Enter a number: \"))\n",
    "number2 = float(input(\"Enter another number: \"))\n",
    "result = number1-number2\n",
    "print(f\"The difference between {number1} and {number2} is an integer? {result.is_integer()}\")"
   ]
  },
  {
   "cell_type": "code",
   "execution_count": null,
   "id": "0127eac7",
   "metadata": {},
   "outputs": [],
   "source": [
    "type(len)"
   ]
  },
  {
   "cell_type": "code",
   "execution_count": null,
   "id": "308f3059",
   "metadata": {},
   "outputs": [],
   "source": [
    "def cube(num):\n",
    "    \"\"\"Return the cube of a number\"\"\"\n",
    "    result = pow(num,3)\n",
    "    return result\n",
    "cube(4)"
   ]
  },
  {
   "cell_type": "code",
   "execution_count": null,
   "id": "3ac392e2",
   "metadata": {},
   "outputs": [],
   "source": [
    "cube(2)"
   ]
  },
  {
   "cell_type": "code",
   "execution_count": null,
   "id": "82a96378",
   "metadata": {},
   "outputs": [],
   "source": [
    "help(cube)"
   ]
  },
  {
   "cell_type": "code",
   "execution_count": null,
   "id": "dd5a98a0",
   "metadata": {},
   "outputs": [],
   "source": [
    "def convert_cel_to_far(num):\n",
    "    \"\"\"Converts temperatures from celcius to fahrenheit\"\"\"\n",
    "    far = num * 9/5 + 32\n",
    "    return far\n"
   ]
  },
  {
   "cell_type": "code",
   "execution_count": null,
   "id": "be143795",
   "metadata": {},
   "outputs": [],
   "source": [
    "temp_in_cel = float(input(\"Enter temperature in degree Celcius:\"))\n",
    "temp_in_far = convert_cel_to_far(temp_in_cel)\n",
    "print(f\"{temp_in_cel} degrees C = {temp_in_far:.2f} degrees F\") #note :.2f formats it to 2dec.places"
   ]
  },
  {
   "cell_type": "code",
   "execution_count": null,
   "id": "c5f29958",
   "metadata": {},
   "outputs": [],
   "source": [
    "help(convert_cel_to_far)"
   ]
  },
  {
   "cell_type": "code",
   "execution_count": null,
   "id": "7634671c",
   "metadata": {},
   "outputs": [],
   "source": [
    "n = 1\n",
    "while n<= 5:\n",
    "    print(n)\n",
    "    n+=1\n",
    "    \n",
    "    "
   ]
  },
  {
   "cell_type": "code",
   "execution_count": null,
   "id": "267f8745",
   "metadata": {},
   "outputs": [],
   "source": [
    "amount = float(input(\"Enter amount: \"))\n",
    "\n",
    "for num_people in range(2,6):\n",
    "    print(f\"{num_people} persons, ${amount/num_people:.2f} each\")"
   ]
  },
  {
   "cell_type": "code",
   "execution_count": null,
   "id": "61b953e8",
   "metadata": {},
   "outputs": [],
   "source": [
    "for n in range(1,4):\n",
    "    for j in range(4,7):\n",
    "        print(f\"n={n}, j={j}\")"
   ]
  },
  {
   "cell_type": "code",
   "execution_count": null,
   "id": "70b20182",
   "metadata": {},
   "outputs": [],
   "source": [
    "for i in range(2,11):\n",
    "    print(i)"
   ]
  },
  {
   "cell_type": "code",
   "execution_count": null,
   "id": "6b59328b",
   "metadata": {},
   "outputs": [],
   "source": [
    "num1= 2\n",
    "while num1<=10:\n",
    "    print(num1)\n",
    "    num1+=1"
   ]
  },
  {
   "cell_type": "code",
   "execution_count": null,
   "id": "90c664ff",
   "metadata": {},
   "outputs": [],
   "source": [
    "def doubles(num):\n",
    "    return(num*2) \n",
    "\n",
    "my_num =2\n",
    "for i in range(0,3):\n",
    "    my_num =doubles(my_num)\n",
    "    print( my_num)"
   ]
  },
  {
   "cell_type": "code",
   "execution_count": null,
   "id": "1f211cf3",
   "metadata": {},
   "outputs": [],
   "source": [
    "def invest(amount, rate, years):\n",
    "    interest = amount*rate*years\n",
    "    amount = amount + interest\n",
    "    return amount\n",
    "\n",
    "\n",
    "money = float(input(\"Enter Principal Amount Here: \"))\n",
    "for time in range(1,5):\n",
    "    new_amount = invest(money,0.05,time)\n",
    "    print(f\"${new_amount:.2f}\")\n",
    "    "
   ]
  },
  {
   "cell_type": "code",
   "execution_count": null,
   "id": "dfb72558",
   "metadata": {},
   "outputs": [],
   "source": [
    "def invest(amount, rate, years):\n",
    "    \"\"\"Display year on year growth of an initial investment\"\"\"\n",
    "    for year in range(1, years + 1):\n",
    "        amount = amount * (1 + rate)\n",
    "        print(f\"year {year}: ${amount:,.2f}\")\n",
    "\n",
    "\n",
    "amount = float(input(\"Enter a principal amount: \"))\n",
    "rate = float(input(\"Enter an anual rate of return: \"))\n",
    "years = int(input(\"Enter a number of years: \"))\n",
    "\n",
    "invest(amount, rate, years)"
   ]
  },
  {
   "cell_type": "code",
   "execution_count": null,
   "id": "6cb1bf0d",
   "metadata": {},
   "outputs": [],
   "source": [
    "def add_underscore(word):\n",
    "    new_word = \"_\"\n",
    "    for i in word:\n",
    "        new_word = new_word + i + \"_\"\n",
    "    return new_word\n",
    "\n",
    "add_underscore(\"python\")"
   ]
  },
  {
   "cell_type": "code",
   "execution_count": null,
   "id": "e3eabaa1",
   "metadata": {},
   "outputs": [],
   "source": [
    "def add_underscores(word):\n",
    "    new_word = \"_\"\n",
    "    \n",
    "    for i in range(0, len(word)):\n",
    "        new_word = new_word + word[i] + \"_\"\n",
    "    return new_word\n",
    "    \n",
    "add_underscores(\"underline\")"
   ]
  },
  {
   "cell_type": "code",
   "execution_count": null,
   "id": "c9f8297b",
   "metadata": {},
   "outputs": [],
   "source": [
    "1!=\"1\""
   ]
  },
  {
   "cell_type": "code",
   "execution_count": null,
   "id": "3ec079fe",
   "metadata": {},
   "outputs": [],
   "source": [
    "\"jack\" < \"jill\""
   ]
  },
  {
   "cell_type": "code",
   "execution_count": null,
   "id": "21afb1cd",
   "metadata": {},
   "outputs": [],
   "source": [
    "\"good\"!=\"Good\""
   ]
  },
  {
   "cell_type": "code",
   "execution_count": null,
   "id": "9f901856",
   "metadata": {},
   "outputs": [],
   "source": [
    "#CODE TO DETERMINE IF A NUMBER IS A PRIME NUMBER\n",
    "num =int(input(\"Enter any number here: \"))\n",
    "if num >1:\n",
    "    for i in range(2,num):\n",
    "        if (num%i)==0:\n",
    "            print(f\"{num} is not a prime number\")\n",
    "            print(f\"{i}, times, {num//i} is {num}\")\n",
    "            break\n",
    "    else:\n",
    "        print(f\"{num} is a prime number\")\n",
    "else:\n",
    "    print(f\"{num} is not a valid input, Kindly input a valid number\")"
   ]
  },
  {
   "cell_type": "code",
   "execution_count": null,
   "id": "073957ab",
   "metadata": {},
   "outputs": [],
   "source": [
    "#CODE TO GET THE FACTORIAL OF A NUMBER\n",
    "num = int(input(\"Enter a Number: \"))\n",
    "factorial = 1\n",
    "\n",
    "if num<0:\n",
    "    print(\"Factorial does not exist for negative numbers\")\n",
    "elif num == 0:\n",
    "    print(\"The factorial of 0 is 1\")\n",
    "else:\n",
    "    for i in range(1,num+1):\n",
    "        factorial = factorial *i\n",
    "    print(f\"The factorial of {num} is {factorial}\")"
   ]
  },
  {
   "cell_type": "code",
   "execution_count": null,
   "id": "a82f385f",
   "metadata": {},
   "outputs": [],
   "source": [
    "5==5.0"
   ]
  },
  {
   "cell_type": "code",
   "execution_count": null,
   "id": "c9b1d4b2",
   "metadata": {},
   "outputs": [],
   "source": [
    "sport = input(\"Enter a sport: \").lower()\n",
    "p1_score = int(input(\"Enter player 1 score: \"))\n",
    "p2_score = int(input(\"Enter player 2 score: \"))\n",
    "\n",
    "if sport == \"basketball\":\n",
    "    if p1_score > p2_score:\n",
    "        print(f\"Player one wins\")\n",
    "    elif p1_score < p2_score:\n",
    "        print(f\"Player two wins with {p2_score-p1_score} points difference \")\n",
    "    else:\n",
    "        print(f\"The game ends in a draw\")\n",
    "elif sport == \"golf\":\n",
    "    if p2_score > p1_score:\n",
    "        print(f\"Player one wins\")\n",
    "    elif p2_score < p1_score:\n",
    "        print(f\"Player two wins with {abs(p1_score-p2_score)} points difference \")\n",
    "    else:\n",
    "        print(f\"The game ends in a draw\") \n",
    "else:\n",
    "    print(\"You Didn't input a valid sport, try again next time\")"
   ]
  },
  {
   "cell_type": "code",
   "execution_count": null,
   "id": "ff758ee2",
   "metadata": {},
   "outputs": [],
   "source": [
    "#CODE TO GIVE THE FACTORS OF AN INTEGER\n",
    "num = int(input(\"Enter a positive number: \"))\n",
    "\n",
    "if num >= 1:\n",
    "    for i in range(1, num+1):\n",
    "        if(num%i)==0:\n",
    "            print(f\"{i} is a factor of {num}\")\n",
    "else:\n",
    "    print(\"Your input was invalid\")"
   ]
  },
  {
   "cell_type": "code",
   "execution_count": null,
   "id": "21298a8b",
   "metadata": {},
   "outputs": [],
   "source": [
    "word = input(\"Enter a Word: \")\n",
    "if len(word)< 5:\n",
    "    print(f\"Your input has {len(word)} characters and is less than 5\")\n",
    "elif len(word)> 5:\n",
    "    print(f\"Your input has {len(word)} characters and is greater than 5\")\n",
    "else:\n",
    "    print(\"Your input is equal to 5\")"
   ]
  },
  {
   "cell_type": "code",
   "execution_count": null,
   "id": "9acc787a",
   "metadata": {},
   "outputs": [],
   "source": [
    "for n in range(0, 4):\n",
    "    if n == 2:\n",
    "        break\n",
    "    print(n)\n"
   ]
  },
  {
   "cell_type": "code",
   "execution_count": null,
   "id": "271e9192",
   "metadata": {},
   "outputs": [],
   "source": [
    "for n in range(3):\n",
    "    username = input(\"Username: \")\n",
    "    password = input(\"Password: \")\n",
    "    if password == \"I<3Bieber\":\n",
    "        print(f\"welcome {username}\")\n",
    "        break\n",
    "    print(\"Password is incorrect.\")  \n",
    "else:\n",
    "    print(\"Suspicious activity. The authorities have been alerted.\")"
   ]
  },
  {
   "cell_type": "code",
   "execution_count": null,
   "id": "827c44b4",
   "metadata": {},
   "outputs": [],
   "source": [
    "for n in range(4):\n",
    "    letter = input(\"Enter a word Here: \")\n",
    "    if letter.lower()==\"q\":\n",
    "        print(\"Correct!! The word we have been waiting for is q!!\")\n",
    "        break\n",
    "    print(\"You have not typed the correct word\")\n",
    "else:\n",
    "    print(\"You have exhausted your attempts\")\n",
    "    "
   ]
  },
  {
   "cell_type": "code",
   "execution_count": null,
   "id": "1628d4a5",
   "metadata": {},
   "outputs": [],
   "source": [
    "#CODE TO FIND THE MULTIPLES OF 3 BETWEEN 1 TO 50\n",
    "for i in range(1,50):\n",
    "    if i%3 != 0:\n",
    "        continue\n",
    "    print(f\"{i} is a multiple of 3\")\n",
    "        \n",
    "        "
   ]
  },
  {
   "cell_type": "code",
   "execution_count": null,
   "id": "e4166e8a",
   "metadata": {},
   "outputs": [],
   "source": [
    "try:\n",
    "    number = int(input(\"Enter an integer: \"))\n",
    "    print(f\"double of {number} is {number*2}\")\n",
    "except ValueError:\n",
    "    print(\"That was not an integer\")\n"
   ]
  },
  {
   "cell_type": "code",
   "execution_count": null,
   "id": "c9e4b24e",
   "metadata": {},
   "outputs": [],
   "source": [
    "def divide(num1, num2):\n",
    "    try:\n",
    "        return num1/num2\n",
    "    except (TypeError, ZeroDivisionError):\n",
    "        print(\"encountered a problem\")\n",
    "        \n",
    "divide('e','2')"
   ]
  },
  {
   "cell_type": "code",
   "execution_count": null,
   "id": "12789623",
   "metadata": {},
   "outputs": [],
   "source": [
    "for i in range(0,4):\n",
    "    \n",
    "    try:\n",
    "        num1= int(input(\"Enter Number here: \"))\n",
    "        print(num1)\n",
    "        break\n",
    "    except ValueError:\n",
    "        print(\"try again\")"
   ]
  },
  {
   "cell_type": "code",
   "execution_count": null,
   "id": "4bd39cee",
   "metadata": {},
   "outputs": [],
   "source": [
    "try:\n",
    "    word = input(\"Enter word here: \")\n",
    "    num1 = int(input(\"Enter number here: \"))\n",
    "    print(word[num1])\n",
    "except ValueError:\n",
    "    print(\"You did not input a valid number\")\n",
    "except IndexError:\n",
    "    print(\"The index is out of range\")\n",
    "    "
   ]
  },
  {
   "cell_type": "code",
   "execution_count": null,
   "id": "e615bed9",
   "metadata": {},
   "outputs": [],
   "source": [
    "#EXAMPLE OF FAIR COIN USING RANDOM.RANDINT() \n",
    "import random\n",
    "def coin_flip():\n",
    "    \"\"\"Randomly return 'heads' or 'tails'.\"\"\"\n",
    "    if random.randint(0,1)==0:\n",
    "        return \"heads\"\n",
    "    else:\n",
    "        return \"tails\"\n",
    "\n",
    "    \n",
    "heads_tally = 0\n",
    "tails_tally = 0\n",
    "for trial in range(1000):\n",
    "    if coin_flip()== \"heads\":\n",
    "        heads_tally = heads_tally +1\n",
    "    else:\n",
    "        tails_tally= tails_tally + 1\n",
    "ratio = heads_tally/tails_tally\n",
    "print(f\"The total number of heads_tally is {heads_tally} and tails_tally is {tails_tally}. Therefore the ratio is {ratio}\")\n"
   ]
  },
  {
   "cell_type": "code",
   "execution_count": null,
   "id": "4c6f4f2b",
   "metadata": {},
   "outputs": [],
   "source": [
    "##EXAMPLE OF UNFAIR COIN USING RANDOM.RANDOM()\n",
    "import random\n",
    "def unfair_coin_flip(probability_of_tails):\n",
    "    if random.random() < probability_of_tails:\n",
    "        return \"tails\"\n",
    "    else:\n",
    "        return \"heads\"\n",
    "\n",
    "heads_tally = 0\n",
    "tails_tally = 0\n",
    "for trial in range(1000):\n",
    "    if unfair_coin_flip(0.7)== \"heads\":\n",
    "        heads_tally = heads_tally + 1\n",
    "    else: \n",
    "        tails_tally = tails_tally + 1\n",
    "        \n",
    "ratio = heads_tally/tails_tally\n",
    "print(f\"The total number of heads_tally is {heads_tally} and tails_tally is {tails_tally}. Therefore the ratio is {ratio}\")"
   ]
  },
  {
   "cell_type": "code",
   "execution_count": null,
   "id": "7164555e",
   "metadata": {},
   "outputs": [],
   "source": [
    "import random\n",
    "def roll():\n",
    "    result = random.randint(1,6)\n",
    "    return result\n",
    "roll()"
   ]
  },
  {
   "cell_type": "code",
   "execution_count": null,
   "id": "9758866c",
   "metadata": {},
   "outputs": [],
   "source": [
    "import random\n",
    "\n",
    "total = 0\n",
    "for i in range(10_000):\n",
    "    num = random.randint(1,6)\n",
    "    total = total + num\n",
    "print(total)\n",
    "print(i)\n",
    "print(f\"The average is {int(total/i)}\")"
   ]
  },
  {
   "cell_type": "code",
   "execution_count": null,
   "id": "4a59c9f0",
   "metadata": {},
   "outputs": [],
   "source": [
    "#CODE SIMULATE SERIES OF A COIN  TOSS EXPERIMENT\n",
    "import random\n",
    "\n",
    "\n",
    "def coin_flip():\n",
    "    \"\"\"Randomly return 'heads' or 'tails'.\"\"\"\n",
    "    if random.randint(0, 1) == 0:\n",
    "        return \"heads\"\n",
    "    else:\n",
    "        return \"tails\"\n",
    "\n",
    "\n",
    "flips = 0\n",
    "num_trials = 10_000\n",
    "\n",
    "for trial in range(num_trials):\n",
    "    if coin_flip() == \"heads\":\n",
    "        # Increment the number of flips by 1\n",
    "        flips = flips + 1\n",
    "        while coin_flip() == \"heads\":\n",
    "            # Keep incrementing the total number of flips\n",
    "            # until \"tails\" is returned by coin_flip()\n",
    "            flips = flips + 1\n",
    "        # Once coin_flip() return \"tails\", the loop will exit,\n",
    "        # but we need to add one more to flips to track the\n",
    "        # last flip that generated \"tails\"\n",
    "        flips = flips + 1\n",
    "    else:\n",
    "        # coin_flip() returned \"tails\" on the first flip.\n",
    "        # Increment the number of flips by 1\n",
    "        flips = flips + 1\n",
    "        while coin_flip() == \"tails\":\n",
    "            # Keep incrementing the total number of flips\n",
    "            # until \"heads\" is returned by coin_flip()\n",
    "            flips = flips + 1\n",
    "        # Once coin_flip() returns \"heads\", the loop will exit,\n",
    "        # but we need to add one more to flips to track the\n",
    "        # last flip that generated \"heads\"\n",
    "        flips = flips + 1\n",
    "\n",
    "avg_flips_per_trial = flips / num_trials\n",
    "print(f\"The average number of flips per trial is {avg_flips_per_trial}.\")"
   ]
  },
  {
   "cell_type": "code",
   "execution_count": null,
   "id": "97dfc7f4",
   "metadata": {},
   "outputs": [],
   "source": [
    "import random\n",
    "\n",
    "def chances_of_winning(probability_of_winning):\n",
    "    \"\"\"Function to determine chances of winning\"\"\"\n",
    "    if random.random() < probability_of_winning:\n",
    "        return \"A\"\n",
    "    else:\n",
    "        return \"B\"\n",
    "\n",
    "A_tally = 0\n",
    "B_tally = 0\n",
    "\n",
    "for i in range(10_000):\n",
    "    #REGION 1 WHERE A HAS 87% OF WINNING\n",
    "    if chances_of_winning(0.87)== \"A\":\n",
    "        A_tally = A_tally + 1\n",
    "    else:\n",
    "        B_tally = B_tally + 1\n",
    "        \n",
    "print(f\"\")\n",
    "\n",
    "\n",
    "    "
   ]
  },
  {
   "cell_type": "code",
   "execution_count": null,
   "id": "ffe37b09",
   "metadata": {},
   "outputs": [],
   "source": [
    "from random import random\n",
    "\n",
    "\n",
    "def run_regional_election(chance_A_wins):\n",
    "    \"\"\"Return the result of a regional election, either \"A\" or \"B\".\n",
    "    The chances of \"A\" winning are determined by chance_A_wins.\n",
    "    \"\"\"\n",
    "    if random() < chance_A_wins:\n",
    "        return \"A\"\n",
    "    else:\n",
    "        return \"B\"\n",
    "\n",
    "\n",
    "def run_election(regional_chances):\n",
    "    \"\"\"Return the result of an election, either \"A\" or \"B\".\n",
    "    regional_chances is a list or tuple of floats representing the\n",
    "    chances that candidate \"A\" will win in each region.\n",
    "    For example, run_election([.2, .5, .7]) will run an election with\n",
    "    three regions, where candidate \"A\" has a 20% chance to win in the\n",
    "    first region, 50% in the second, and 70% in the third.\n",
    "    \"\"\"\n",
    "    num_regions_won_by_A = 0\n",
    "    for chance_A_wins in regional_chances:\n",
    "        if run_regional_election(chance_A_wins) == \"A\":\n",
    "            num_regions_won_by_A = num_regions_won_by_A + 1\n",
    "\n",
    "    # Return the results. Note that the number of regions won by candidate\n",
    "    # \"B\" is the total number of regions minus the number of regions won by\n",
    "    # candidate \"A\". The total number of regions is the same as the length\n",
    "    # of the regional_chances list.\n",
    "    num_regions_won_by_B = len(regional_chances) - num_regions_won_by_A\n",
    "    if num_regions_won_by_A > num_regions_won_by_B:\n",
    "        return \"A\"\n",
    "    else:\n",
    "        return \"B\"\n",
    "\n",
    "\n",
    "CHANCES_A_WINS_BY_REGION = [0.87, 0.65, 0.17]\n",
    "NUM_TRIALS = 10_000\n",
    "\n",
    "# Run the Monte-Carlo simulation\n",
    "num_times_A_wins = 0\n",
    "for trial in range(NUM_TRIALS):\n",
    "    if run_election(CHANCES_A_WINS_BY_REGION) == \"A\":\n",
    "        num_times_A_wins = num_times_A_wins + 1\n",
    "\n",
    "# Display the probabilities that candidate A or candidate B wins the\n",
    "# election. Note the probability that B wins can be calculated by\n",
    "# subtracting the probability that A wins from 1.\n",
    "print(f\"Probability A wins: {num_times_A_wins / NUM_TRIALS}\")\n",
    "print(f\"Probability B wins: {1 - (num_times_A_wins / NUM_TRIALS)}\")"
   ]
  },
  {
   "cell_type": "code",
   "execution_count": null,
   "id": "cf67426a",
   "metadata": {},
   "outputs": [],
   "source": [
    "x = (1,)\n",
    "type(x)"
   ]
  },
  {
   "cell_type": "code",
   "execution_count": null,
   "id": "a94b5ac1",
   "metadata": {},
   "outputs": [],
   "source": [
    "numbers = [3,9,8,5,9]\n",
    "total = sum(numbers)\n",
    "print(total)"
   ]
  },
  {
   "cell_type": "code",
   "execution_count": null,
   "id": "6146c6a4",
   "metadata": {},
   "outputs": [],
   "source": [
    "\"\"\"1. Create a tuple literal named cardinal_numbers that holds the strings\n",
    "\"first\", \"second\" and \"third\", in that order.\n",
    "2. Using index notation and print(), display the string at index 1 in\n",
    "cardinal_numbers.\"\"\"\n",
    "\n",
    "cardinal_numbers = (\"first\", \"second\", \"third\")\n",
    "print(cardinal_numbers[1])"
   ]
  },
  {
   "cell_type": "code",
   "execution_count": null,
   "id": "aaba03bb",
   "metadata": {},
   "outputs": [],
   "source": [
    "\"\"\"3. Unpack the values in cardinal_numbers into three new strings\n",
    "named position1, position2 and position3 in a single line of code,\n",
    "then print each value on a separate line.\"\"\"\n",
    "\n",
    "position1, position2, position3 = cardinal_numbers\n",
    "print(position1)\n",
    "print(position2)\n",
    "print(position3)"
   ]
  },
  {
   "cell_type": "code",
   "execution_count": null,
   "id": "a77c828c",
   "metadata": {},
   "outputs": [],
   "source": [
    "my_name = tuple(\"samuel\")\n",
    "\"x\" in my_name\n",
    "print(my_name[1:6])"
   ]
  },
  {
   "cell_type": "code",
   "execution_count": null,
   "id": "470c776a",
   "metadata": {},
   "outputs": [],
   "source": [
    "#CREATING A LIST WITH SEPARATORS \" \" USING THE SPLIT METHOD\n",
    "groceries = \"eggs, milk, cheese\"\n",
    "grocery_list = groceries.split(\", \")\n",
    "grocery_list"
   ]
  },
  {
   "cell_type": "code",
   "execution_count": null,
   "id": "8f420e27",
   "metadata": {},
   "outputs": [],
   "source": [
    "breakfast = \"eggs, fruit, orange, juice\"\n",
    "breakfast_list = breakfast.split(\", \")\n",
    "print(breakfast_list)"
   ]
  },
  {
   "cell_type": "code",
   "execution_count": null,
   "id": "dabf15cb",
   "metadata": {},
   "outputs": [],
   "source": [
    "len(breakfast_list)"
   ]
  },
  {
   "cell_type": "code",
   "execution_count": null,
   "id": "daf6f180",
   "metadata": {},
   "outputs": [],
   "source": [
    "#LIST COMPREHENSION IS ASHORTHAND FOR A FOR LOOP\n",
    "length_of_list = [len(item) for item in breakfast_list]\n",
    "length_of_list"
   ]
  },
  {
   "cell_type": "code",
   "execution_count": null,
   "id": "061b6cf8",
   "metadata": {},
   "outputs": [],
   "source": [
    "#INDEPENDENTLY COPYING A LIST USING THE SLICE NOTATION :\n",
    "animals = [\"lion\", \"tiger\", \"frumious Bandersnatch\"]\n",
    "large_cats = animals[:]\n",
    "large_cats.append(\"leopard\")\n",
    "large_cats"
   ]
  },
  {
   "cell_type": "code",
   "execution_count": null,
   "id": "df698e3c",
   "metadata": {},
   "outputs": [],
   "source": [
    "animals"
   ]
  },
  {
   "cell_type": "code",
   "execution_count": null,
   "id": "4bbb61a7",
   "metadata": {},
   "outputs": [],
   "source": [
    "def get_second_element(item):\n",
    "    return item[1]\n",
    "\n",
    "numbers = [(4, 1), (1, 2), (-9, 0)]\n",
    "numbers.sort(key=get_second_element)\n",
    "print(numbers)"
   ]
  },
  {
   "cell_type": "code",
   "execution_count": null,
   "id": "006d983f",
   "metadata": {},
   "outputs": [],
   "source": [
    "str(None)"
   ]
  },
  {
   "cell_type": "code",
   "execution_count": null,
   "id": "0900f55b",
   "metadata": {},
   "outputs": [],
   "source": [
    "d={}\n",
    "d[None]='This is bit tricky'\n",
    "print(d)"
   ]
  },
  {
   "cell_type": "code",
   "execution_count": null,
   "id": "0ed64a02",
   "metadata": {},
   "outputs": [],
   "source": [
    "def get_first_element(item):\n",
    "    return item[0]\n",
    "\n",
    "Num_list = [(8,3), (-7,1), (5,2)]\n",
    "Num_list.sort(key=get_first_element)\n",
    "Num_list"
   ]
  },
  {
   "cell_type": "code",
   "execution_count": null,
   "id": "fa2ee5d7",
   "metadata": {},
   "outputs": [],
   "source": [
    "figures = [(3,4), (1,2)]\n",
    "figures"
   ]
  },
  {
   "cell_type": "code",
   "execution_count": null,
   "id": "68dc2d08",
   "metadata": {},
   "outputs": [],
   "source": [
    "list_sum=[sum(figure) for figure in figures]\n",
    "print(f\"sum of Row 1 is {list_sum[0]}\")\n",
    "print(f\"sum of Row 2 is {list_sum[1]}\")"
   ]
  },
  {
   "cell_type": "code",
   "execution_count": null,
   "id": "f58c4709",
   "metadata": {},
   "outputs": [],
   "source": [
    "numbers = [4, 3, 2, 1]\n",
    "numbers_copy = numbers[:]\n",
    "numbers.sort()\n",
    "numbers"
   ]
  },
  {
   "cell_type": "code",
   "execution_count": null,
   "id": "4b25dfa3",
   "metadata": {},
   "outputs": [],
   "source": [
    "data = [\n",
    "['California Institute of Technology', 2175, 37704],\n",
    "['Harvard', 19627, 39849],\n",
    "['Massachusetts Institute of Technology', 10566, 40732],\n",
    "['Princeton', 7802, 37000],\n",
    "['Rice', 5879, 35551],\n",
    "['Stanford', 19535, 40569],\n",
    "['Yale', 11701, 40500]\n",
    "]\n",
    "\n",
    "def enrollment_stats(universities):\n",
    "    list_of_enrolled_students = []\n",
    "    list_of_tuition_fee = []\n",
    "    for university in universities:\n",
    "        list_of_enrolled_students.append(university[1])\n",
    "        list_of_tuition_fee.append(university[2])\n",
    "        \n",
    "    return [list_of_tuition_fee, list_of_enrolled_students] \n",
    "    \n",
    "def mean(info):\n",
    "    \"\"\"A function that prints the average of a list\"\"\"\n",
    "    total_info = 0\n",
    "    count = 0\n",
    "    for element in info:\n",
    "        total_info = total_info + element\n",
    "        count +=1\n",
    "    return(total_info/count)\n",
    "\n",
    "def median(info):\n",
    "    \"\"\"A function to caculate the median of a list, That is, it returns the middle number in a list\"\"\"\n",
    "    count = 0\n",
    "    info.sort()\n",
    "    for element in info:\n",
    "        count+=1\n",
    "    if count%2 != 0:\n",
    "        temp = count//2\n",
    "        answer = info[temp]\n",
    "    else:\n",
    "        temp1 = count//2\n",
    "        temp2 = temp1-1\n",
    "        temp = info[temp1] + info[temp2]\n",
    "        answer = float(temp/2)\n",
    "        \n",
    "    return answer\n",
    "\n",
    "        \n",
    "    \n",
    "tuition_and_students = enrollment_stats(data)\n",
    "print(f\"Total Students: {sum(tuition_and_students[1]):,}\")\n",
    "print(f\"Total Tuition: ${sum(tuition_and_students[0]):,}\\n\")\n",
    "print(f\"Student mean: {mean(tuition_and_students[1]):,.2f}\")\n",
    "print(f\"Student median: {median(tuition_and_students[1]):,}\\n\")\n",
    "print(f\"Tuition mean: ${mean(tuition_and_students[0]):,.2f}\")\n",
    "print(f\"Tuition median: ${median(tuition_and_students[0]):,.2f}\")\n",
    "\n"
   ]
  },
  {
   "cell_type": "code",
   "execution_count": null,
   "id": "931ee2c4",
   "metadata": {},
   "outputs": [],
   "source": [
    "def average(info):\n",
    "    total= sum(info)\n",
    "    length = len(info)\n",
    "    return(total/length)\n",
    "\n"
   ]
  },
  {
   "cell_type": "code",
   "execution_count": null,
   "id": "5c8744fd",
   "metadata": {},
   "outputs": [],
   "source": [
    "average([1,2,3,4])"
   ]
  },
  {
   "cell_type": "code",
   "execution_count": null,
   "id": "0aa1196a",
   "metadata": {},
   "outputs": [],
   "source": [
    "mean([1,2,3,4])"
   ]
  },
  {
   "cell_type": "code",
   "execution_count": null,
   "id": "1071f49e",
   "metadata": {},
   "outputs": [],
   "source": [
    "#CHALLENGE 9.0 WAX POETIC\n",
    "from random import choice\n",
    "\n",
    "Nouns=[\"fossil\", \"horse\", \"aardvark\", \"judge\", \"chef\", \"mango\", \"extrovert\", \"gorilla\"]\n",
    "Verbs=[\"kicks\", \"jingles\", \"bounces\", \"slurps\", \"meows\", \"explodes\", \"curdles\"]\n",
    "Adjectives=[\"furry\", \"balding\", \"incredulous\", \"fragrant\", \"exuberant\", \"glistening\"]\n",
    "Prepositions = [\"against\", \"after\", \"into\", \"beneath\", \"upon\", \"for\", \"in\", \"like\", \"over\", \"within\"]\n",
    "Adverbs = [\"curiously\", \"extravagantly\", \"tantalizingly\", \"furiously\", \"sensuously\"]\n",
    "\n",
    "def extracted_list(info,num):\n",
    "    \"\"\"This is a function to extract random elements from a sequence. \n",
    "    It takes in two parameters. \n",
    "    The first parameter is the sequence, while the second parameter \n",
    "    is the number of values to be extracted\"\"\"\n",
    "    random_list = []\n",
    "    if num > len(info):\n",
    "        print(f\"{num} is greater than the number of elements in the sequence. Try again with a smaller number\")\n",
    "    else:\n",
    "        for n in range(0,num):\n",
    "            random_list.append(choice(info))\n",
    "            \n",
    "    return random_list\n",
    "        \n",
    "        \n",
    "extracted_Nouns = extracted_list(Nouns, 3)\n",
    "extracted_Verbs = extracted_list(Verbs, 3)\n",
    "extracted_Adjectives = extracted_list(Adjectives, 3)\n",
    "extracted_Prepositions = extracted_list(Prepositions,2)\n",
    "extracted_Adverbs = extracted_list(Adverbs, 1)\n",
    "\n",
    "print(extracted_Adjectives)\n",
    "\n",
    "seen =\"aeiou\".find(extracted_Adjectives[0][0]) # if it returns any figure not -1 then First letter is a vowel\n",
    "print(seen)\n",
    "\n",
    "print(f\"A {extracted_Adjectives[0]} {extracted_Nouns[0]}\\n\") \n",
    "print(f\"A {extracted_Adjectives[0]} {extracted_Nouns[0]} {extracted_Verbs[0]} {extracted_Prepositions[0]} the {extracted_Adjectives[1]} {extracted_Nouns[1]} {extracted_Adverbs[0]}, the {extracted_Nouns[0]} {extracted_Verbs[1]}\\n the {extracted_Nouns[1]} {extracted_Verbs[2]} {extracted_Prepositions[1]} a {extracted_Adjectives[2]} {extracted_Nouns[2]}\")"
   ]
  },
  {
   "cell_type": "code",
   "execution_count": null,
   "id": "f239a85c",
   "metadata": {},
   "outputs": [],
   "source": [
    "help(extracted_list)"
   ]
  },
  {
   "cell_type": "code",
   "execution_count": null,
   "id": "7743f1ed",
   "metadata": {},
   "outputs": [],
   "source": [
    "import random\n",
    "\n",
    "noun = [\n",
    "    \"fossil\",\n",
    "    \"horse\",\n",
    "    \"aardvark\",\n",
    "    \"judge\",\n",
    "    \"chef\",\n",
    "    \"mango\",\n",
    "    \"extrovert\",\n",
    "    \"gorilla\",\n",
    "]\n",
    "verb = [\n",
    "    \"kicks\",\n",
    "    \"jingles\",\n",
    "    \"bounces\",\n",
    "    \"slurps\",\n",
    "    \"meows\",\n",
    "    \"explodes\",\n",
    "    \"curdles\",\n",
    "]\n",
    "adjective = [\n",
    "    \"furry\",\n",
    "    \"balding\",\n",
    "    \"incredulous\",\n",
    "    \"fragrant\",\n",
    "    \"exuberant\",\n",
    "    \"glistening\",\n",
    "]\n",
    "preposition = [\n",
    "    \"against\",\n",
    "    \"after\",\n",
    "    \"into\",\n",
    "    \"beneath\",\n",
    "    \"upon\",\n",
    "    \"for\",\n",
    "    \"in\",\n",
    "    \"like\",\n",
    "    \"over\",\n",
    "    \"within\",\n",
    "]\n",
    "adverb = [\n",
    "    \"curiously\",\n",
    "    \"extravagantly\",\n",
    "    \"tantalizingly\",\n",
    "    \"furiously\",\n",
    "    \"sensuously\",\n",
    "]\n",
    "\n",
    "\n",
    "def make_poem():\n",
    "    \"\"\"Create a randomly generated poem, returned as a multi-line string.\"\"\"\n",
    "    # Pull three nouns randomly\n",
    "    n1 = random.choice(noun)\n",
    "    n2 = random.choice(noun)\n",
    "    n3 = random.choice(noun)\n",
    "    # Make sure that all the nouns are different\n",
    "    while n1 == n2:\n",
    "        n2 = random.choice(noun)\n",
    "    while n1 == n3 or n2 == n3:\n",
    "        n3 = random.choice(noun)\n",
    "\n",
    "    # Pull three different verbs\n",
    "    v1 = random.choice(verb)\n",
    "    v2 = random.choice(verb)\n",
    "    v3 = random.choice(verb)\n",
    "    while v1 == v2:\n",
    "        v2 = random.choice(verb)\n",
    "    while v1 == v3 or v2 == v3:\n",
    "        v3 = random.choice(verb)\n",
    "\n",
    "    # Pull three different adjectives\n",
    "    adj1 = random.choice(adjective)\n",
    "    adj2 = random.choice(adjective)\n",
    "    adj3 = random.choice(adjective)\n",
    "    while adj1 == adj2:\n",
    "        adj2 = random.choice(adjective)\n",
    "    while adj1 == adj3 or adj2 == adj3:\n",
    "        adj3 = random.choice(adjective)\n",
    "\n",
    "    # Pull two different prepositions\n",
    "    prep1 = random.choice(preposition)\n",
    "    prep2 = random.choice(preposition)\n",
    "    while prep1 == prep2:\n",
    "        prep2 = random.choice(preposition)\n",
    "\n",
    "    # Pull one adverb\n",
    "    adv1 = random.choice(adverb)\n",
    "\n",
    "    if \"aeiou\".find(adj1[0]) != -1:  # if it returns any figure not -1 then First letter is a vowel\n",
    "        article = \"An\"\n",
    "    else:\n",
    "        article = \"A\"\n",
    "\n",
    "    # Create the poem\n",
    "    poem = (\n",
    "        f\"{article} {adj1} {n1}\\n\\n\"\n",
    "        f\"{article} {adj1} {n1} {v1} {prep1} the {adj2} {n2}\\n\"\n",
    "        f\"{adv1}, the {n1} {v2}\\n\"\n",
    "        f\"the {n2} {v3} {prep2} a {adj3} {n3}\"\n",
    "    )\n",
    "\n",
    "    return poem\n",
    "\n",
    "\n",
    "poem = make_poem()\n",
    "print(poem)"
   ]
  },
  {
   "cell_type": "code",
   "execution_count": null,
   "id": "756759c8",
   "metadata": {},
   "outputs": [],
   "source": [
    "capitals = {\"Texas\": \"Houston\", \"Abia\": \"Umuahia\", \"California\": \"Sacramento\"}\n",
    "\n",
    "for capital in capitals.values():\n",
    "    print(capital)"
   ]
  },
  {
   "cell_type": "code",
   "execution_count": null,
   "id": "6eecb2bd",
   "metadata": {},
   "outputs": [],
   "source": [
    "for state in capitals:\n",
    "    print(f\"The capital of {state} is {capitals[state]}\")"
   ]
  },
  {
   "cell_type": "code",
   "execution_count": null,
   "id": "f61ca01d",
   "metadata": {},
   "outputs": [],
   "source": [
    "for state in capitals.keys():\n",
    "    print(state)"
   ]
  },
  {
   "cell_type": "code",
   "execution_count": null,
   "id": "00ade21c",
   "metadata": {},
   "outputs": [],
   "source": [
    "for state, capital in capitals.items():\n",
    "    print(f\"{state}'s capital is {capital}\")"
   ]
  },
  {
   "cell_type": "code",
   "execution_count": null,
   "id": "ea1d8100",
   "metadata": {},
   "outputs": [],
   "source": [
    "#REVIEW EXCERCISES CHAPTER 9\n",
    "captains = {}\n",
    "captains[\"Enterprise\"]= \"Picard\"\n",
    "captains['Voyager']= 'Janeway'\n",
    "captains['Defiant']= 'Sisko'\n",
    "captains"
   ]
  },
  {
   "cell_type": "code",
   "execution_count": null,
   "id": "067418f2",
   "metadata": {},
   "outputs": [],
   "source": [
    "if \"Discovery\" in captains:\n",
    "    captains[\"Discovery\"]\n",
    "else:\n",
    "    captains[\"Discovery\"] = \"unknown\""
   ]
  },
  {
   "cell_type": "code",
   "execution_count": null,
   "id": "e0bfbe5b",
   "metadata": {},
   "outputs": [],
   "source": [
    "if \"Enterprise\" in captains:\n",
    "    captains[\"Enterprise\"] = \"picard\""
   ]
  },
  {
   "cell_type": "code",
   "execution_count": null,
   "id": "33827f01",
   "metadata": {},
   "outputs": [],
   "source": [
    "del captains[\"Discovery\"]\n",
    "captains"
   ]
  },
  {
   "cell_type": "code",
   "execution_count": null,
   "id": "36987af6",
   "metadata": {},
   "outputs": [],
   "source": [
    "for ship,captain in captains.items():\n",
    "    print(f\"The {ship} is captained by {captain}.\")"
   ]
  },
  {
   "cell_type": "code",
   "execution_count": null,
   "id": "558ea8ed",
   "metadata": {},
   "outputs": [],
   "source": [
    "list_data = [3, 4, 8,6 ]\n",
    "median(list_data)"
   ]
  },
  {
   "cell_type": "code",
   "execution_count": null,
   "id": "6482afa6",
   "metadata": {},
   "outputs": [],
   "source": [
    "from random import choice\n",
    "capitals_dict = {\n",
    "    \"Alabama\": \"Montgomery\",\n",
    "    \"Alaska\": \"Juneau\",\n",
    "    \"Arizona\": \"Phoenix\",\n",
    "    \"Arkansas\": \"Little Rock\",\n",
    "    \"California\": \"Sacramento\",\n",
    "    \"Colorado\": \"Denver\",\n",
    "    \"Connecticut\": \"Hartford\",\n",
    "    \"Delaware\": \"Dover\",\n",
    "    \"Florida\": \"Tallahassee\",\n",
    "    \"Georgia\": \"Atlanta\",\n",
    "    \"Hawaii\": \"Honolulu\",\n",
    "    \"Idaho\": \"Boise\",\n",
    "    \"Illinois\": \"Springfield\",\n",
    "    \"Indiana\": \"Indianapolis\",\n",
    "    \"Iowa\": \"Des Moines\",\n",
    "    \"Kansas\": \"Topeka\",\n",
    "    \"Kentucky\": \"Frankfort\",\n",
    "    \"Louisiana\": \"Baton Rouge\",\n",
    "    \"Maine\": \"Augusta\",\n",
    "    \"Maryland\": \"Annapolis\",\n",
    "    \"Massachusetts\": \"Boston\",\n",
    "    \"Michigan\": \"Lansing\",\n",
    "    \"Minnesota\": \"Saint Paul\",\n",
    "    \"Mississippi\": \"Jackson\",\n",
    "    \"Missouri\": \"Jefferson City\",\n",
    "    \"Montana\": \"Helena\",\n",
    "    \"Nebraska\": \"Lincoln\",\n",
    "    \"Nevada\": \"Carson City\",\n",
    "    \"New Hampshire\": \"Concord\",\n",
    "    \"New Jersey\": \"Trenton\",\n",
    "    \"New Mexico\": \"Santa Fe\",\n",
    "    \"New York\": \"Albany\",\n",
    "    \"North Carolina\": \"Raleigh\",\n",
    "    \"North Dakota\": \"Bismarck\",\n",
    "    \"Ohio\": \"Columbus\",\n",
    "    \"Oklahoma\": \"Oklahoma City\",\n",
    "    \"Oregon\": \"Salem\",\n",
    "    \"Pennsylvania\": \"Harrisburg\",\n",
    "    \"Rhode Island\": \"Providence\",\n",
    "    \"South Carolina\": \"Columbia\",\n",
    "    \"South Dakota\": \"Pierre\",\n",
    "    \"Tennessee\": \"Nashville\",\n",
    "    \"Texas\": \"Austin\",\n",
    "    \"Utah\": \"Salt Lake City\",\n",
    "    \"Vermont\": \"Montpelier\",\n",
    "    \"Virginia\": \"Richmond\",\n",
    "    \"Washington\": \"Olympia\",\n",
    "    \"West Virginia\": \"Charleston\",\n",
    "    \"Wisconsin\": \"Madison\",\n",
    "    \"Wyoming\": \"Cheyenne\",\n",
    "}\n",
    "\n",
    "state, capital = choice(list(capitals_dict.items()))\n",
    "\n",
    "while True:\n",
    "    guess = input(f\"What is the capital of '{state}'? \").lower()\n",
    "    if guess == \"exit\":\n",
    "        print(f\"The capital of '{state}' is '{capital}'.\")\n",
    "        print(\"Goodbye\")\n",
    "        break\n",
    "    elif guess == capital.lower():\n",
    "        print(\"Correct! Nice job.\")\n",
    "        break\n",
    "    "
   ]
  },
  {
   "cell_type": "code",
   "execution_count": null,
   "id": "884f019e",
   "metadata": {},
   "outputs": [],
   "source": [
    "#CHALLENGE 9.9 CATS WITH HAT\n",
    "theCats = {}\n",
    "\n",
    "#The succeeding for loop initializes every key (1-100) to the value of false\n",
    "for i in range(1, 101):\n",
    "    theCats[i] = False\n",
    "\n",
    "for i in range(1, 101):\n",
    "    for cats, hats in theCats.items():\n",
    "        #this if statement checks on each iteration, if the dictionary keys \n",
    "        #are divisible without a remainder with each iterating value\n",
    "        if cats % i == 0: \n",
    "            #This if statement checks if the cats value is false in the dictionary\n",
    "            #And if it is false, it changes it to true and vice versa the line if theCats[cats]: is similar to saying\n",
    "            #if theCats[cats]==True:\n",
    "            if theCats[cats]:\n",
    "                #NOTE THAT FROM ABOVE WE AVOIDED USING IF HATS, THIS IS BECAUSE USING \"IF HATS WILL GIVE A DIFF RESULT\"\n",
    "                #BECAUSE IT WILL SKIP THE CRITERIA ALREADY CHECKED WHICH IS if cats % i == 0 SINCE HATS WERE NOT CHECKED\n",
    "                theCats[cats] = False\n",
    "            else:\n",
    "                theCats[cats] = True\n",
    "\n",
    "for cats, hats in theCats.items():\n",
    "    if theCats[cats]:\n",
    "        print(f\"Cat {cats} has a hat.\")\n",
    "    else:\n",
    "        print(f\"Cat {cats} is hatless!\")"
   ]
  },
  {
   "cell_type": "code",
   "execution_count": null,
   "id": "b0a8cac3",
   "metadata": {},
   "outputs": [],
   "source": [
    "#PERSONAL TRIAL USING 50 ITERATIONS FOR DOGS WITH CAP\n",
    "\n",
    "theDogs = {}\n",
    "\n",
    "for i in range(1,51):\n",
    "    theDogs[i]= False\n",
    "    \n",
    "for i in range(1,51):\n",
    "    for dogs, caps in theDogs.items():\n",
    "        if dogs%i ==0:\n",
    "            if theDogs[dogs]:\n",
    "                theDogs[dogs]= False\n",
    "            else:\n",
    "                theDogs[dogs] = True\n",
    "for dogs,caps in theDogs.items():\n",
    "    if caps: #NOTE THAT SAYING IF CAPS IS SIMILAR TO SAYING IF theDogs[dogs] \n",
    "        print(f\"Dog {dogs} has a hat\")\n",
    "    else:\n",
    "        print(f\"Dog {dogs} is hatless\")\n",
    "            \n",
    "            \n"
   ]
  },
  {
   "cell_type": "code",
   "execution_count": null,
   "id": "06b4e28e",
   "metadata": {},
   "outputs": [],
   "source": [
    "#CLASSES\n",
    "class Dog:\n",
    "    def __init__(self,name,color):\n",
    "        self.name = name\n",
    "        self.color = color\n",
    "    def details(self):\n",
    "        print(f\"{self.name} has {self.color} color\")\n",
    "        \n",
    "Pitbull = Dog(\"bingo\",\"brown\")\n",
    "Pitbull.details()"
   ]
  },
  {
   "cell_type": "code",
   "execution_count": null,
   "id": "0e4f192d",
   "metadata": {},
   "outputs": [],
   "source": [
    "#DIFFERENCE BETWEEN A CLASS ATTRIBUTE AND AN INSTANCE ATTRIBUTE\n",
    "class Cat:\n",
    "    species = \"Cremlin ferralisis\" #CLASS ATTRIBUTE\n",
    "    def __init__(self,name, age): #INSTANCE ATTRIBUTE\n",
    "        self.name = name\n",
    "        self.age = age\n",
    "        \n"
   ]
  },
  {
   "cell_type": "code",
   "execution_count": null,
   "id": "cf3c12c8",
   "metadata": {},
   "outputs": [],
   "source": [
    "class Horse:\n",
    "    pass\n",
    "a = Horse()\n",
    "b = Horse()\n",
    "a==b #Returns FALSE because they are in different memory locations"
   ]
  },
  {
   "cell_type": "code",
   "execution_count": null,
   "id": "770c7707",
   "metadata": {},
   "outputs": [],
   "source": [
    "mouau = {}\n",
    "mouau[[4]]= \"bad\" \n",
    "#This will return a typeError of unhashable type. This is because lists are mutable \n",
    "#as such cant serve as dictionary keys. "
   ]
  },
  {
   "cell_type": "code",
   "execution_count": null,
   "id": "c75e182c",
   "metadata": {},
   "outputs": [],
   "source": [
    "#REVIEW EXERCISES\n",
    "class Lion:\n",
    "    def __init__(self, name, age, coat_color):\n",
    "        self.name = name\n",
    "        self.age =  age\n",
    "        self.coat_color = coat_color\n",
    "    def speak(self,sound):\n",
    "        return f\"{self.name} says {sound}\"\n",
    "    def __str__(self):\n",
    "        return f\"{self.name} is {self.age} years old\"\n",
    "    \n",
    "simba = Lion(\"Simba\", 4, \"Brown\")\n",
    "simba.speak(\"roooaaarrrr\")\n",
    "print(f\"{simba.name}'s coat is {simba.coat_color}.\")\n",
    "#NOTE THAT PRINTING THE INSTANCE OF LION-SIMBA WAS POSSIBLE BECAUSE OF THE .__str__() DUNDER METHOD"
   ]
  },
  {
   "cell_type": "code",
   "execution_count": null,
   "id": "2007804e",
   "metadata": {},
   "outputs": [],
   "source": [
    "#REVIEW EXERCISES\n",
    "class Car:\n",
    "    def __init__(self,color, mileage):\n",
    "        self.color = color\n",
    "        self.mileage = mileage\n",
    "        \n",
    "    def drive(self,num):\n",
    "        self.mileage += num\n",
    "        return self.mileage\n",
    "        \n",
    "car1 = Car(\"blue\", 20_000)\n",
    "car2 = Car(\"Red\", 30_000)\n",
    "print(f\"The {car1.color} has {car1.mileage:,} miles\")\n",
    "print(f\"The {car2.color} has {car2.mileage:,} miles\")\n",
    "\n",
    "car3 = Car(\"black\", 0)\n",
    "car3.drive(100)\n",
    "print(car3.mileage)"
   ]
  },
  {
   "cell_type": "code",
   "execution_count": null,
   "id": "b5af413e",
   "metadata": {},
   "outputs": [],
   "source": [
    "#REVIEW EXERCISES \n",
    "class Hyena:\n",
    "    species = \"Canis Familiaris\"\n",
    "    \n",
    "    def __init__(self,name,age):\n",
    "        self.name = name\n",
    "        self.age = age\n",
    "    def __str__(self):\n",
    "        return f\"{self.name} is {age} years old\"\n",
    "    def speak(self,sound):\n",
    "        return f\"{self.name} says {sound}\"\n",
    "    \n",
    "\n",
    "class GoldenRetriever(Hyena):\n",
    "    def speak(self,sound=\"Bark\"):\n",
    "        return super().speak(sound)\n",
    "    \n",
    "class Rectangle:\n",
    "    def __init__(self,length,width):\n",
    "        self.length = length\n",
    "        self.width = width\n",
    "        \n",
    "class Square(Rectangle):\n",
    "    def __init__(self, side_length):\n",
    "        self.side_length = side_length\n",
    "        \n",
    "    def area(self):\n",
    "        return f\"The area is {self.side_length**2}\"\n",
    "    "
   ]
  },
  {
   "cell_type": "code",
   "execution_count": null,
   "id": "023dbc74",
   "metadata": {},
   "outputs": [],
   "source": [
    "isinstance(GoldenRetriever,Hyena)"
   ]
  },
  {
   "cell_type": "code",
   "execution_count": null,
   "id": "35ff74ff",
   "metadata": {},
   "outputs": [],
   "source": [
    "square1 = Square(4)\n",
    "square1.area()"
   ]
  },
  {
   "cell_type": "code",
   "execution_count": null,
   "id": "ee56adf4",
   "metadata": {},
   "outputs": [],
   "source": [
    "#EXAMPLE OF ADDING A CLASS METHOD WITH THE DECORATOR\n",
    "#NOTE THAT STATIC METHODS ARE JUST LIKE ADDING AN ORDINARY METHOD IN YOUR CLASS, therefore they can take in parameters too.\n",
    "class Herbivore:\n",
    "    species = \"Canis Familiaris\"\n",
    "    \n",
    "    def __init__(self,name,age, eat):\n",
    "        self.name = name\n",
    "        self.age = age\n",
    "        self.eat = eat\n",
    "    def __str__(self):\n",
    "        return f\"{self.name} is {age} years old \"\n",
    "    def speak(self,sound):\n",
    "        return f\"{self.name} says {sound}\"\n",
    "    @classmethod\n",
    "    def specify(cls):\n",
    "        return cls.species\n",
    "    @staticmethod\n",
    "    def repeat():\n",
    "        print(f\"A herbivore is an animal that eats grass, they are mostly ruminants\")"
   ]
  },
  {
   "cell_type": "code",
   "execution_count": null,
   "id": "dca1c0f4",
   "metadata": {},
   "outputs": [],
   "source": [
    "goat = Herbivore(\"billy\",2,\"grass\")\n",
    "goat.specify()"
   ]
  },
  {
   "cell_type": "code",
   "execution_count": null,
   "id": "17af78e4",
   "metadata": {},
   "outputs": [],
   "source": [
    "goat.speak(\"kpeee\")"
   ]
  },
  {
   "cell_type": "code",
   "execution_count": null,
   "id": "0dcc0d42",
   "metadata": {},
   "outputs": [],
   "source": [
    "goat.repeat()"
   ]
  },
  {
   "cell_type": "code",
   "execution_count": null,
   "id": "c2357747",
   "metadata": {},
   "outputs": [],
   "source": [
    "#DUNDER METHODS(USING ADD DUNDER METHOD TO ADD TWO INSTANCES OF A CLASS)\n",
    "class Account:\n",
    "    def __init__(self, account_name, balance):\n",
    "        self.account_name= account_name\n",
    "        self.balance = balance\n",
    "        \n",
    "    def __add__(self,acc):\n",
    "        if isinstance(acc,Account):\n",
    "            return self.balance + acc.balance\n",
    "        raise Exception(f\"{acc} is not an instance of the class Account\")\n",
    "            \n",
    "\n",
    "acc1 = Account(\"Aliko\", 20_000_000)\n",
    "acc2 = Account(\"otedola\", 30_000_000)\n",
    "\n",
    "acc1+acc2\n",
    "        "
   ]
  },
  {
   "cell_type": "code",
   "execution_count": null,
   "id": "c35af576",
   "metadata": {},
   "outputs": [],
   "source": [
    "#USING THE __GET_ITEM__ DUNDER METHOD FOR LIST INDEXING AN INSTANCE OF A CLASS\n",
    "class TransactionBook:\n",
    "    def __init__(self, user_id, shares=[]):\n",
    "        self.user_id = user_id\n",
    "        self.shares = shares\n",
    "        \n",
    "    def add_trade(self, name , quantity, buySell):\n",
    "        self.shares.append([name,quantity,buySell])\n",
    "\n",
    "    def __getitem__(self, i):\n",
    "        return self.shares[i]\n",
    "    \n",
    "myTransactions = TransactionBook(\"uche\")\n",
    "myTransactions.add_trade(\"Gold\", 20, \"B\")\n",
    "myTransactions.add_trade(\"Diamond\", 10, \"B\")\n",
    "myTransactions.add_trade(\"Platinum\", 50, \"S\")"
   ]
  },
  {
   "cell_type": "code",
   "execution_count": null,
   "id": "9e285d21",
   "metadata": {},
   "outputs": [],
   "source": [
    "myTransactions[1]"
   ]
  },
  {
   "cell_type": "code",
   "execution_count": null,
   "id": "dfcda12d",
   "metadata": {},
   "outputs": [],
   "source": [
    "#A CODE TO CHECK THE SYSTEM OS AND RAISE AN EXCEPTION IF NOT LINUX\n",
    "import sys\n",
    "\n",
    "if not (sys.platform).startswith(\"win\"):\n",
    "    raise Exception(\"This is not a linux OS\")\n",
    "else:\n",
    "    print(\"Welcome\")"
   ]
  },
  {
   "cell_type": "code",
   "execution_count": null,
   "id": "2cb8edc5",
   "metadata": {},
   "outputs": [],
   "source": [
    "#NOTE, WE CAN ALSO CUSTOMIZE EXCEPTIONS BY INHERITING FROM IT FOR OUR OWN CLASS\n",
    "class CustomException(Exception):\n",
    "    pass \n",
    "\n",
    "\n",
    "import sys\n",
    "\n",
    "if not (sys.platform).startswith(\"win\"):\n",
    "    raise CustomException(\"This is not a linux OS\")\n",
    "else:\n",
    "    print(\"Welcome\")"
   ]
  },
  {
   "cell_type": "code",
   "execution_count": null,
   "id": "b30a6fec",
   "metadata": {},
   "outputs": [],
   "source": [
    "class Block:\n",
    "    def __init__(self, height, length, width):\n",
    "        self.height = height\n",
    "        self.length = length\n",
    "        self.width = width\n",
    "        \n",
    "    def area(self):\n",
    "        return self.length * self.width\n",
    "    \n",
    "    def volume(self):\n",
    "        return self.area() * self.height #You can call another method of the same class in another method using self.\n",
    "    \n",
    "    \n",
    "block1 = Block(4,6,8)\n",
    "block1.volume()\n"
   ]
  },
  {
   "cell_type": "code",
   "execution_count": null,
   "id": "196fe81d",
   "metadata": {},
   "outputs": [],
   "source": [
    "Block.__mro__"
   ]
  },
  {
   "cell_type": "code",
   "execution_count": null,
   "id": "ee8be6a7",
   "metadata": {},
   "outputs": [],
   "source": [
    "Square.__mro__"
   ]
  },
  {
   "cell_type": "code",
   "execution_count": null,
   "id": "87217b42",
   "metadata": {},
   "outputs": [],
   "source": [
    "class Rectangle:\n",
    "    def __init__(self, length, width, **kwargs):\n",
    "        self.length = length\n",
    "        self.width = width\n",
    "        super().__init__(**kwargs)\n",
    "\n",
    "    def area(self):\n",
    "        return self.length * self.width\n",
    "\n",
    "    def perimeter(self):\n",
    "        return 2 * (self.length + self.width)\n",
    "\n",
    "# Here we declare that the Square class inherits from \n",
    "# the Rectangle class\n",
    "class Square(Rectangle):\n",
    "    def __init__(self, length, **kwargs):\n",
    "        super().__init__(length=length, width=length, **kwargs)\n",
    "\n",
    "class Cube(Square):\n",
    "    def surface_area(self):\n",
    "        face_area = super().area()\n",
    "        return face_area * 6\n",
    "\n",
    "    def volume(self):\n",
    "        face_area = super().area()\n",
    "        return face_area * self.length\n",
    "\n",
    "class Triangle:\n",
    "    def __init__(self, base, height, **kwargs):\n",
    "        self.base = base\n",
    "        self.height = height\n",
    "        super().__init__(**kwargs)\n",
    "\n",
    "    def tri_area(self):\n",
    "        return 0.5 * self.base * self.height\n",
    "\n",
    "class RightPyramid(Square, Triangle):\n",
    "    def __init__(self, base, slant_height, **kwargs):\n",
    "        self.base = base\n",
    "        self.slant_height = slant_height #KWARGS TAKES INTO CONSIDERATION THE ATTRIBUTES THAT ARE EXISTING IN PARENT CLASS,\n",
    "        kwargs[\"height\"] = slant_height # BUT NOT IN THE CHILD CLASS hence length from square and height, \n",
    "        kwargs[\"length\"] = base  #from triangle are assigned to base and slant_height respectively\n",
    "        super().__init__(base=base, **kwargs)\n",
    "\n",
    "    def area(self):\n",
    "        base_area = super().area()\n",
    "        perimeter = super().perimeter()\n",
    "        return 0.5 * perimeter * self.slant_height + base_area\n",
    "\n",
    "    def area_2(self):\n",
    "        base_area = super().area()\n",
    "        triangle_area = super().tri_area()\n",
    "        return triangle_area * 4 + base_area"
   ]
  },
  {
   "cell_type": "code",
   "execution_count": null,
   "id": "5c15bd6d",
   "metadata": {},
   "outputs": [],
   "source": [
    "isinstance(Rectangle,object)"
   ]
  },
  {
   "cell_type": "code",
   "execution_count": null,
   "id": "5305b32a",
   "metadata": {},
   "outputs": [],
   "source": [
    "pyramid = RightPyramid(base=4, slant_height=4)\n",
    "pyramid.area_2()"
   ]
  },
  {
   "cell_type": "code",
   "execution_count": null,
   "id": "3119a373",
   "metadata": {},
   "outputs": [],
   "source": [
    "#UNDERSTANDING ASSERT KEYWORD: explanation: asser is just like saying \"confirm that this is equal to that then do this\"\n",
    "list1 = [0,9,8,2]\n",
    "assert list1[1]== 9\n",
    "print(\"Ok\")"
   ]
  },
  {
   "cell_type": "code",
   "execution_count": null,
   "id": "980c0ea0",
   "metadata": {},
   "outputs": [],
   "source": [
    "#UNDERSTANDING * AS AN UNPACKING OPERATOR\n",
    "my_tuple = (1,2,3)\n",
    "def my_sum(a,b,c):\n",
    "    return a+b+c\n",
    "my_sum(*my_tuple)"
   ]
  },
  {
   "cell_type": "code",
   "execution_count": null,
   "id": "e349d42f",
   "metadata": {},
   "outputs": [],
   "source": [
    "*a, = \"RealPython\"\n",
    "print(a)"
   ]
  },
  {
   "cell_type": "code",
   "execution_count": null,
   "id": "826493a0",
   "metadata": {},
   "outputs": [],
   "source": [
    "#When a list/sequence of numbers are assigned to a variable, they are automatically packed into a tuple.\n",
    "t= 1,2,3\n",
    "type(t)"
   ]
  },
  {
   "cell_type": "code",
   "execution_count": null,
   "id": "42b96713",
   "metadata": {},
   "outputs": [],
   "source": [
    "a, b, c = (1, 2, 3, 4, 5, 6, 7, 8, 9)[1::3]\n",
    "b"
   ]
  },
  {
   "cell_type": "code",
   "execution_count": null,
   "id": "fb00962a",
   "metadata": {},
   "outputs": [],
   "source": [
    "def __str__(self):\n",
    "    return self.title\n",
    "\n",
    "def __repr__(self):\n",
    "    return self.__str__()"
   ]
  }
 ],
 "metadata": {
  "kernelspec": {
   "display_name": "Python 3 (ipykernel)",
   "language": "python",
   "name": "python3"
  },
  "language_info": {
   "codemirror_mode": {
    "name": "ipython",
    "version": 3
   },
   "file_extension": ".py",
   "mimetype": "text/x-python",
   "name": "python",
   "nbconvert_exporter": "python",
   "pygments_lexer": "ipython3",
   "version": "3.9.10"
  }
 },
 "nbformat": 4,
 "nbformat_minor": 5
}
