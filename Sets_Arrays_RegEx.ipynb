{
 "cells": [
  {
   "cell_type": "code",
   "execution_count": null,
   "id": "6993daad",
   "metadata": {},
   "outputs": [],
   "source": [
    "def minpositive(a):\n",
    "    A = set(a)\n",
    "    ans = 1\n",
    "    while ans in A:\n",
    "       ans += 1\n",
    "    return ans\n",
    "\n",
    "fura = [-1,-1,-2,-3,-4,-5,-6,-8,-7,0,1,2,3,4]\n",
    "\n",
    "minpositive(fura)\n",
    "            "
   ]
  },
  {
   "cell_type": "code",
   "execution_count": null,
   "id": "49232ddd",
   "metadata": {},
   "outputs": [],
   "source": [
    "#SETS\n",
    "x = set(['foo', 'bar', 'baz', 'foo', 'qux'])\n",
    "print(x)"
   ]
  },
  {
   "cell_type": "code",
   "execution_count": null,
   "id": "f11620f3",
   "metadata": {},
   "outputs": [],
   "source": [
    "#UNION IN SETS\n",
    "x1 = {'foo', 'bar', 'baz'}\n",
    "x2 = {'baz', 'qux', 'quux'}\n",
    "x1|x2"
   ]
  },
  {
   "cell_type": "code",
   "execution_count": null,
   "id": "42090a56",
   "metadata": {},
   "outputs": [],
   "source": [
    "#EXAMPLE TO SHOW THAT IF A TUPLE CONTAINS MUTABLE OBJECTS IN IT, IT CAN BE MUTATED\n",
    "my_tuple = ([1,5,8,9], [4,9,0,8])\n",
    "my_tuple[0][2]= 10\n",
    "my_tuple\n"
   ]
  },
  {
   "cell_type": "code",
   "execution_count": null,
   "id": "8e404326",
   "metadata": {},
   "outputs": [],
   "source": [
    "#WORKING WITH LAMBDA FUNCTIONS\n",
    "y= lambda x,z: x+z\n",
    "print(y(4,5))\n"
   ]
  },
  {
   "cell_type": "code",
   "execution_count": null,
   "id": "12456eea",
   "metadata": {},
   "outputs": [],
   "source": [
    "def convert_to_binary(num):\n",
    "    return bin(num)\n",
    "convert_to_binary(529)"
   ]
  },
  {
   "cell_type": "code",
   "execution_count": null,
   "id": "121393d2",
   "metadata": {},
   "outputs": [],
   "source": [
    "def solution(N):\n",
    "    bin_equivalence = bin(N)[2:]\n",
    "    for num\n",
    "    "
   ]
  },
  {
   "cell_type": "code",
   "execution_count": null,
   "id": "ab17c7ef",
   "metadata": {},
   "outputs": [],
   "source": [
    "#REGEX\n",
    "multi_line_string = \"This is the way we write abcdefghijklmnopqrstuvwxyz however there is another abc\"\n",
    "multiline_digits = '10001001'\n",
    "import re\n",
    "pattern = re.compile(r'10+1')\n",
    "\n",
    "matches = pattern.findall(multiline_digits)\n",
    "\n",
    "for match in matches:\n",
    "    print(match)"
   ]
  },
  {
   "cell_type": "code",
   "execution_count": null,
   "id": "82da6562",
   "metadata": {},
   "outputs": [],
   "source": [
    "import re\n",
    "new_word = 'Elmagnifico1995'\n",
    "new_pattern = re.compile(r'[a-zA-Z0-9]+')\n",
    "\n",
    "matches = new_pattern.finditer(new_word)\n",
    "\n",
    "for match in matches:\n",
    "    print(match)\n"
   ]
  },
  {
   "cell_type": "code",
   "execution_count": null,
   "id": "00fbf541",
   "metadata": {},
   "outputs": [],
   "source": [
    "#FOR BINARY QUESTION\n",
    "bin_n ='100010001'\n",
    "import re\n",
    "gap = re.findall(r'(?=(10+1))', bin_n)\n",
    "gap=len(max(gap,key=len))-2\n",
    "print(gap)"
   ]
  },
  {
   "cell_type": "code",
   "execution_count": null,
   "id": "938e32a9",
   "metadata": {},
   "outputs": [],
   "source": [
    "this_array = [\"orange\", \"green\", \"indigo\", \"purple\"]\n",
    "this_array.insert(1, \"blue\")\n",
    "print(this_array)"
   ]
  },
  {
   "cell_type": "code",
   "execution_count": null,
   "id": "4f4cd528",
   "metadata": {},
   "outputs": [],
   "source": [
    "#that, given an array A consisting of N integers fulfilling the above conditions, returns the value of the unpaired element.\n",
    "def solution(A):     \n",
    "    if len(A) == 1:\n",
    "         return A[0]\n",
    "    A = sorted(A)\n",
    "    for i in range(0 , len (A) , 2):\n",
    "         if i+1 == len(A):\n",
    "            return A[i]\n",
    "         if A[i] != A[i+1]:\n",
    "            return A[i]\n",
    "        \n",
    "the_array = [1,1,7,9,6,7,9,6, 3]\n",
    "solution(the_array)"
   ]
  },
  {
   "cell_type": "code",
   "execution_count": null,
   "id": "9c752e1b",
   "metadata": {},
   "outputs": [],
   "source": [
    "the_array = [1,1,7,9,6,7,9,6, 3]\n",
    "the_array.sort()\n",
    "counter = 0\n",
    "for num in the_array:\n",
    "    index_num = the_array.index(num)\n",
    "    while num != the_array[index_num+1]:\n",
    "        print(num)\n",
    "        break\n",
    "        "
   ]
  },
  {
   "cell_type": "code",
   "execution_count": null,
   "id": "28b12355",
   "metadata": {},
   "outputs": [],
   "source": [
    "my_array = [1,1,2,2,]\n",
    "\n",
    "def solution(A, K):\n",
    "    # write your code in Python 3.6\n",
    "    \n",
    "    for num in A:\n",
    "        index = A.index(num)\n",
    "        index= index+K\n",
    "        if index <= (len(A)-1):\n",
    "            A[index]= num\n",
    "        if index > (len(A)-1):\n",
    "            index = index-(len(A)-1)\n",
    "            A[index]=num\n",
    "        else:\n",
    "            index = index-(len(A)-1)\n",
    "            A[index] = num\n",
    "    return A\n",
    "\n",
    "solution(my_array)"
   ]
  },
  {
   "cell_type": "markdown",
   "id": "1d40ddd3",
   "metadata": {},
   "source": []
  }
 ],
 "metadata": {
  "kernelspec": {
   "display_name": "Python 3 (ipykernel)",
   "language": "python",
   "name": "python3"
  },
  "language_info": {
   "codemirror_mode": {
    "name": "ipython",
    "version": 3
   },
   "file_extension": ".py",
   "mimetype": "text/x-python",
   "name": "python",
   "nbconvert_exporter": "python",
   "pygments_lexer": "ipython3",
   "version": "3.9.10"
  }
 },
 "nbformat": 4,
 "nbformat_minor": 5
}
